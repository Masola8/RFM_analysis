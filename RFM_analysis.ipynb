{
 "cells": [
  {
   "cell_type": "code",
   "execution_count": 1,
   "metadata": {},
   "outputs": [],
   "source": [
    "# Импортируем требуемые библиотеки\n",
    "import pandas as pd\n",
    "import requests\n",
    "from urllib.parse import urlencode\n",
    "import seaborn as sns\n",
    "import matplotlib.pyplot as plt"
   ]
  },
  {
   "cell_type": "code",
   "execution_count": 2,
   "metadata": {},
   "outputs": [],
   "source": [
    "def get_yandex_file(public_key):\n",
    "    '''Функция загрузки файл с Яндекс.Диска. На вход функции подается ссылка на файл, \n",
    "    в резульате получаем скачанный файл в формате csv'''\n",
    "    base_url = 'https://cloud-api.yandex.net/v1/disk/public/resources/download?'\n",
    "    # Получаем загрузочную ссылку\n",
    "    final_url = base_url + urlencode(dict(public_key = public_key))\n",
    "    response = requests.get(final_url)\n",
    "    download_url = response.json()['href']\n",
    "    return (download_url)"
   ]
  },
  {
   "cell_type": "code",
   "execution_count": 29,
   "metadata": {},
   "outputs": [],
   "source": [
    "# Загружаем файлы и сохраняем их\n",
    "assessments = pd.read_csv(get_yandex_file('https://disk.yandex.ru/d/iSVP1sZ7AdW7TQ'))\n",
    "courses = pd.read_csv(get_yandex_file('https://disk.yandex.ru/d/jmJxR8yhwCXlaw'))\n",
    "students = pd.read_csv(get_yandex_file('https://disk.yandex.ru/d/DYd4M5b_8RETsA'))\n",
    "registration = pd.read_csv(get_yandex_file('https://disk.yandex.ru/d/lqHnH8NOZ458iw'))"
   ]
  },
  {
   "cell_type": "markdown",
   "metadata": {},
   "source": [
    "# Предварительный анализ данных"
   ]
  },
  {
   "cell_type": "markdown",
   "metadata": {},
   "source": [
    "Для всех датасетов проверяю корректность типов данных, наличие дублей, пустых строк"
   ]
  },
  {
   "cell_type": "code",
   "execution_count": 4,
   "metadata": {},
   "outputs": [
    {
     "data": {
      "text/plain": [
       "code_module           object\n",
       "code_presentation     object\n",
       "id_assessment          int64\n",
       "assessment_type       object\n",
       "date                 float64\n",
       "weight               float64\n",
       "dtype: object"
      ]
     },
     "execution_count": 4,
     "metadata": {},
     "output_type": "execute_result"
    }
   ],
   "source": [
    "assessments.dtypes"
   ]
  },
  {
   "cell_type": "code",
   "execution_count": 5,
   "metadata": {},
   "outputs": [
    {
     "data": {
      "text/plain": [
       "code_module           0\n",
       "code_presentation     0\n",
       "id_assessment         0\n",
       "assessment_type       0\n",
       "date                 11\n",
       "weight                0\n",
       "dtype: int64"
      ]
     },
     "execution_count": 5,
     "metadata": {},
     "output_type": "execute_result"
    }
   ],
   "source": [
    "assessments.isna().sum()"
   ]
  },
  {
   "cell_type": "markdown",
   "metadata": {},
   "source": [
    "Замечаем, что имеется 11 строк без даты"
   ]
  },
  {
   "cell_type": "code",
   "execution_count": 6,
   "metadata": {},
   "outputs": [
    {
     "data": {
      "text/html": [
       "<div>\n",
       "<style scoped>\n",
       "    .dataframe tbody tr th:only-of-type {\n",
       "        vertical-align: middle;\n",
       "    }\n",
       "\n",
       "    .dataframe tbody tr th {\n",
       "        vertical-align: top;\n",
       "    }\n",
       "\n",
       "    .dataframe thead th {\n",
       "        text-align: right;\n",
       "    }\n",
       "</style>\n",
       "<table border=\"1\" class=\"dataframe\">\n",
       "  <thead>\n",
       "    <tr style=\"text-align: right;\">\n",
       "      <th></th>\n",
       "      <th>code_module</th>\n",
       "      <th>code_presentation</th>\n",
       "      <th>id_assessment</th>\n",
       "      <th>assessment_type</th>\n",
       "      <th>date</th>\n",
       "      <th>weight</th>\n",
       "    </tr>\n",
       "  </thead>\n",
       "  <tbody>\n",
       "  </tbody>\n",
       "</table>\n",
       "</div>"
      ],
      "text/plain": [
       "Empty DataFrame\n",
       "Columns: [code_module, code_presentation, id_assessment, assessment_type, date, weight]\n",
       "Index: []"
      ]
     },
     "execution_count": 6,
     "metadata": {},
     "output_type": "execute_result"
    }
   ],
   "source": [
    "duplicateRows = assessments[assessments.duplicated()]\n",
    "duplicateRows"
   ]
  },
  {
   "cell_type": "code",
   "execution_count": 7,
   "metadata": {},
   "outputs": [
    {
     "data": {
      "text/plain": [
       "code_module                   object\n",
       "code_presentation             object\n",
       "module_presentation_length     int64\n",
       "dtype: object"
      ]
     },
     "execution_count": 7,
     "metadata": {},
     "output_type": "execute_result"
    }
   ],
   "source": [
    "courses.dtypes"
   ]
  },
  {
   "cell_type": "code",
   "execution_count": 9,
   "metadata": {},
   "outputs": [
    {
     "data": {
      "text/plain": [
       "code_module                   0\n",
       "code_presentation             0\n",
       "module_presentation_length    0\n",
       "dtype: int64"
      ]
     },
     "execution_count": 9,
     "metadata": {},
     "output_type": "execute_result"
    }
   ],
   "source": [
    "courses.isna().sum()"
   ]
  },
  {
   "cell_type": "code",
   "execution_count": 7,
   "metadata": {},
   "outputs": [
    {
     "data": {
      "text/html": [
       "<div>\n",
       "<style scoped>\n",
       "    .dataframe tbody tr th:only-of-type {\n",
       "        vertical-align: middle;\n",
       "    }\n",
       "\n",
       "    .dataframe tbody tr th {\n",
       "        vertical-align: top;\n",
       "    }\n",
       "\n",
       "    .dataframe thead th {\n",
       "        text-align: right;\n",
       "    }\n",
       "</style>\n",
       "<table border=\"1\" class=\"dataframe\">\n",
       "  <thead>\n",
       "    <tr style=\"text-align: right;\">\n",
       "      <th></th>\n",
       "      <th>code_module</th>\n",
       "      <th>code_presentation</th>\n",
       "      <th>module_presentation_length</th>\n",
       "    </tr>\n",
       "  </thead>\n",
       "  <tbody>\n",
       "  </tbody>\n",
       "</table>\n",
       "</div>"
      ],
      "text/plain": [
       "Empty DataFrame\n",
       "Columns: [code_module, code_presentation, module_presentation_length]\n",
       "Index: []"
      ]
     },
     "execution_count": 7,
     "metadata": {},
     "output_type": "execute_result"
    }
   ],
   "source": [
    "duplicateRows = courses[courses.duplicated()]\n",
    "duplicateRows"
   ]
  },
  {
   "cell_type": "code",
   "execution_count": 20,
   "metadata": {},
   "outputs": [
    {
     "data": {
      "text/plain": [
       "id_assessment       int64\n",
       "id_student          int64\n",
       "date_submitted      int64\n",
       "is_banked           int64\n",
       "score             float64\n",
       "dtype: object"
      ]
     },
     "execution_count": 20,
     "metadata": {},
     "output_type": "execute_result"
    }
   ],
   "source": [
    "students.dtypes"
   ]
  },
  {
   "cell_type": "code",
   "execution_count": 21,
   "metadata": {},
   "outputs": [
    {
     "data": {
      "text/plain": [
       "id_assessment       0\n",
       "id_student          0\n",
       "date_submitted      0\n",
       "is_banked           0\n",
       "score             173\n",
       "dtype: int64"
      ]
     },
     "execution_count": 21,
     "metadata": {},
     "output_type": "execute_result"
    }
   ],
   "source": [
    "students.isna().sum()"
   ]
  },
  {
   "cell_type": "code",
   "execution_count": 22,
   "metadata": {},
   "outputs": [
    {
     "data": {
      "text/html": [
       "<div>\n",
       "<style scoped>\n",
       "    .dataframe tbody tr th:only-of-type {\n",
       "        vertical-align: middle;\n",
       "    }\n",
       "\n",
       "    .dataframe tbody tr th {\n",
       "        vertical-align: top;\n",
       "    }\n",
       "\n",
       "    .dataframe thead th {\n",
       "        text-align: right;\n",
       "    }\n",
       "</style>\n",
       "<table border=\"1\" class=\"dataframe\">\n",
       "  <thead>\n",
       "    <tr style=\"text-align: right;\">\n",
       "      <th></th>\n",
       "      <th>id_assessment</th>\n",
       "      <th>id_student</th>\n",
       "      <th>date_submitted</th>\n",
       "      <th>is_banked</th>\n",
       "      <th>score</th>\n",
       "    </tr>\n",
       "  </thead>\n",
       "  <tbody>\n",
       "  </tbody>\n",
       "</table>\n",
       "</div>"
      ],
      "text/plain": [
       "Empty DataFrame\n",
       "Columns: [id_assessment, id_student, date_submitted, is_banked, score]\n",
       "Index: []"
      ]
     },
     "execution_count": 22,
     "metadata": {},
     "output_type": "execute_result"
    }
   ],
   "source": [
    "duplicateRows = students[students.duplicated()]\n",
    "duplicateRows"
   ]
  },
  {
   "cell_type": "code",
   "execution_count": 12,
   "metadata": {},
   "outputs": [
    {
     "data": {
      "text/plain": [
       "code_module             object\n",
       "code_presentation       object\n",
       "id_student               int64\n",
       "date_registration      float64\n",
       "date_unregistration    float64\n",
       "dtype: object"
      ]
     },
     "execution_count": 12,
     "metadata": {},
     "output_type": "execute_result"
    }
   ],
   "source": [
    "registration.dtypes"
   ]
  },
  {
   "cell_type": "code",
   "execution_count": 13,
   "metadata": {},
   "outputs": [
    {
     "data": {
      "text/plain": [
       "code_module                0\n",
       "code_presentation          0\n",
       "id_student                 0\n",
       "date_registration         45\n",
       "date_unregistration    22521\n",
       "dtype: int64"
      ]
     },
     "execution_count": 13,
     "metadata": {},
     "output_type": "execute_result"
    }
   ],
   "source": [
    "registration.isna().sum()"
   ]
  },
  {
   "cell_type": "code",
   "execution_count": 14,
   "metadata": {},
   "outputs": [
    {
     "data": {
      "text/html": [
       "<div>\n",
       "<style scoped>\n",
       "    .dataframe tbody tr th:only-of-type {\n",
       "        vertical-align: middle;\n",
       "    }\n",
       "\n",
       "    .dataframe tbody tr th {\n",
       "        vertical-align: top;\n",
       "    }\n",
       "\n",
       "    .dataframe thead th {\n",
       "        text-align: right;\n",
       "    }\n",
       "</style>\n",
       "<table border=\"1\" class=\"dataframe\">\n",
       "  <thead>\n",
       "    <tr style=\"text-align: right;\">\n",
       "      <th></th>\n",
       "      <th>code_module</th>\n",
       "      <th>code_presentation</th>\n",
       "      <th>id_student</th>\n",
       "      <th>date_registration</th>\n",
       "      <th>date_unregistration</th>\n",
       "    </tr>\n",
       "  </thead>\n",
       "  <tbody>\n",
       "  </tbody>\n",
       "</table>\n",
       "</div>"
      ],
      "text/plain": [
       "Empty DataFrame\n",
       "Columns: [code_module, code_presentation, id_student, date_registration, date_unregistration]\n",
       "Index: []"
      ]
     },
     "execution_count": 14,
     "metadata": {},
     "output_type": "execute_result"
    }
   ],
   "source": [
    "duplicateRows = registration[registration.duplicated()]\n",
    "duplicateRows"
   ]
  },
  {
   "cell_type": "markdown",
   "metadata": {},
   "source": [
    "Замечаем, что имеется 45 строк без даты регистрации. Пустое поле date_unregistration означает, чтостудент окончил курс"
   ]
  },
  {
   "cell_type": "markdown",
   "metadata": {},
   "source": [
    "Сначала проанализируем данные и поймем, что считается курсом. \n",
    "Предположим, что курс - это предмет, который оканчивается экзаменом и проходит в определенный семестр.\n",
    "Для анализа возьмем три таблицы: assessments, courses и students. Объединим их в одну."
   ]
  },
  {
   "cell_type": "code",
   "execution_count": 8,
   "metadata": {},
   "outputs": [
    {
     "data": {
      "text/html": [
       "<div>\n",
       "<style scoped>\n",
       "    .dataframe tbody tr th:only-of-type {\n",
       "        vertical-align: middle;\n",
       "    }\n",
       "\n",
       "    .dataframe tbody tr th {\n",
       "        vertical-align: top;\n",
       "    }\n",
       "\n",
       "    .dataframe thead th {\n",
       "        text-align: right;\n",
       "    }\n",
       "</style>\n",
       "<table border=\"1\" class=\"dataframe\">\n",
       "  <thead>\n",
       "    <tr style=\"text-align: right;\">\n",
       "      <th></th>\n",
       "      <th>id_student</th>\n",
       "      <th>code_module</th>\n",
       "      <th>assessment_type</th>\n",
       "      <th>id_assessment</th>\n",
       "    </tr>\n",
       "  </thead>\n",
       "  <tbody>\n",
       "    <tr>\n",
       "      <th>14048</th>\n",
       "      <td>540758</td>\n",
       "      <td>DDD</td>\n",
       "      <td>Exam</td>\n",
       "      <td>2</td>\n",
       "    </tr>\n",
       "    <tr>\n",
       "      <th>23363</th>\n",
       "      <td>593903</td>\n",
       "      <td>DDD</td>\n",
       "      <td>Exam</td>\n",
       "      <td>2</td>\n",
       "    </tr>\n",
       "    <tr>\n",
       "      <th>12577</th>\n",
       "      <td>527323</td>\n",
       "      <td>DDD</td>\n",
       "      <td>Exam</td>\n",
       "      <td>2</td>\n",
       "    </tr>\n",
       "    <tr>\n",
       "      <th>25990</th>\n",
       "      <td>605118</td>\n",
       "      <td>DDD</td>\n",
       "      <td>Exam</td>\n",
       "      <td>2</td>\n",
       "    </tr>\n",
       "    <tr>\n",
       "      <th>30146</th>\n",
       "      <td>626407</td>\n",
       "      <td>CCC</td>\n",
       "      <td>Exam</td>\n",
       "      <td>1</td>\n",
       "    </tr>\n",
       "  </tbody>\n",
       "</table>\n",
       "</div>"
      ],
      "text/plain": [
       "       id_student code_module assessment_type  id_assessment\n",
       "14048      540758         DDD            Exam              2\n",
       "23363      593903         DDD            Exam              2\n",
       "12577      527323         DDD            Exam              2\n",
       "25990      605118         DDD            Exam              2\n",
       "30146      626407         CCC            Exam              1"
      ]
     },
     "execution_count": 8,
     "metadata": {},
     "output_type": "execute_result"
    }
   ],
   "source": [
    "courses_analysis = pd.merge(assessments, students, on = ['id_assessment'])\n",
    "number_exams = (courses_analysis.groupby(['id_student', 'code_module', 'assessment_type'], as_index = False)\\\n",
    "                                  .agg({'id_assessment': 'count'})\n",
    "                                  .query('assessment_type == \"Exam\"')\\\n",
    "                                  .sort_values('id_assessment', ascending = False))\n",
    "number_exams.head()"
   ]
  },
  {
   "cell_type": "markdown",
   "metadata": {},
   "source": [
    "Получается, что теория подтверждается и на каждый курс приходится по 1 экзамену. Но есть 4 случая с 2 экзаменами посмотрим \n",
    "на них подробнее. Проверим код семестра, даты и оценки"
   ]
  },
  {
   "cell_type": "code",
   "execution_count": 9,
   "metadata": {},
   "outputs": [
    {
     "data": {
      "text/html": [
       "<div>\n",
       "<style scoped>\n",
       "    .dataframe tbody tr th:only-of-type {\n",
       "        vertical-align: middle;\n",
       "    }\n",
       "\n",
       "    .dataframe tbody tr th {\n",
       "        vertical-align: top;\n",
       "    }\n",
       "\n",
       "    .dataframe thead th {\n",
       "        text-align: right;\n",
       "    }\n",
       "</style>\n",
       "<table border=\"1\" class=\"dataframe\">\n",
       "  <thead>\n",
       "    <tr style=\"text-align: right;\">\n",
       "      <th></th>\n",
       "      <th>code_module</th>\n",
       "      <th>code_presentation</th>\n",
       "      <th>id_assessment</th>\n",
       "      <th>assessment_type</th>\n",
       "      <th>date</th>\n",
       "      <th>weight</th>\n",
       "      <th>id_student</th>\n",
       "      <th>date_submitted</th>\n",
       "      <th>is_banked</th>\n",
       "      <th>score</th>\n",
       "    </tr>\n",
       "  </thead>\n",
       "  <tbody>\n",
       "    <tr>\n",
       "      <th>75180</th>\n",
       "      <td>DDD</td>\n",
       "      <td>2013B</td>\n",
       "      <td>25340</td>\n",
       "      <td>Exam</td>\n",
       "      <td>240.0</td>\n",
       "      <td>100.0</td>\n",
       "      <td>527323</td>\n",
       "      <td>229</td>\n",
       "      <td>0</td>\n",
       "      <td>24.0</td>\n",
       "    </tr>\n",
       "    <tr>\n",
       "      <th>87566</th>\n",
       "      <td>DDD</td>\n",
       "      <td>2014B</td>\n",
       "      <td>25361</td>\n",
       "      <td>Exam</td>\n",
       "      <td>241.0</td>\n",
       "      <td>100.0</td>\n",
       "      <td>527323</td>\n",
       "      <td>234</td>\n",
       "      <td>0</td>\n",
       "      <td>18.0</td>\n",
       "    </tr>\n",
       "    <tr>\n",
       "      <th>75235</th>\n",
       "      <td>DDD</td>\n",
       "      <td>2013B</td>\n",
       "      <td>25340</td>\n",
       "      <td>Exam</td>\n",
       "      <td>240.0</td>\n",
       "      <td>100.0</td>\n",
       "      <td>540758</td>\n",
       "      <td>229</td>\n",
       "      <td>0</td>\n",
       "      <td>40.0</td>\n",
       "    </tr>\n",
       "    <tr>\n",
       "      <th>87573</th>\n",
       "      <td>DDD</td>\n",
       "      <td>2014B</td>\n",
       "      <td>25361</td>\n",
       "      <td>Exam</td>\n",
       "      <td>241.0</td>\n",
       "      <td>100.0</td>\n",
       "      <td>540758</td>\n",
       "      <td>234</td>\n",
       "      <td>0</td>\n",
       "      <td>60.0</td>\n",
       "    </tr>\n",
       "    <tr>\n",
       "      <th>82731</th>\n",
       "      <td>DDD</td>\n",
       "      <td>2013J</td>\n",
       "      <td>25354</td>\n",
       "      <td>Exam</td>\n",
       "      <td>261.0</td>\n",
       "      <td>100.0</td>\n",
       "      <td>593903</td>\n",
       "      <td>241</td>\n",
       "      <td>0</td>\n",
       "      <td>49.0</td>\n",
       "    </tr>\n",
       "    <tr>\n",
       "      <th>95711</th>\n",
       "      <td>DDD</td>\n",
       "      <td>2014J</td>\n",
       "      <td>25368</td>\n",
       "      <td>Exam</td>\n",
       "      <td>NaN</td>\n",
       "      <td>100.0</td>\n",
       "      <td>593903</td>\n",
       "      <td>243</td>\n",
       "      <td>0</td>\n",
       "      <td>44.0</td>\n",
       "    </tr>\n",
       "    <tr>\n",
       "      <th>82844</th>\n",
       "      <td>DDD</td>\n",
       "      <td>2013J</td>\n",
       "      <td>25354</td>\n",
       "      <td>Exam</td>\n",
       "      <td>261.0</td>\n",
       "      <td>100.0</td>\n",
       "      <td>605118</td>\n",
       "      <td>237</td>\n",
       "      <td>0</td>\n",
       "      <td>42.0</td>\n",
       "    </tr>\n",
       "    <tr>\n",
       "      <th>95749</th>\n",
       "      <td>DDD</td>\n",
       "      <td>2014J</td>\n",
       "      <td>25368</td>\n",
       "      <td>Exam</td>\n",
       "      <td>NaN</td>\n",
       "      <td>100.0</td>\n",
       "      <td>605118</td>\n",
       "      <td>243</td>\n",
       "      <td>0</td>\n",
       "      <td>64.0</td>\n",
       "    </tr>\n",
       "  </tbody>\n",
       "</table>\n",
       "</div>"
      ],
      "text/plain": [
       "      code_module code_presentation  id_assessment assessment_type   date  \\\n",
       "75180         DDD             2013B          25340            Exam  240.0   \n",
       "87566         DDD             2014B          25361            Exam  241.0   \n",
       "75235         DDD             2013B          25340            Exam  240.0   \n",
       "87573         DDD             2014B          25361            Exam  241.0   \n",
       "82731         DDD             2013J          25354            Exam  261.0   \n",
       "95711         DDD             2014J          25368            Exam    NaN   \n",
       "82844         DDD             2013J          25354            Exam  261.0   \n",
       "95749         DDD             2014J          25368            Exam    NaN   \n",
       "\n",
       "       weight  id_student  date_submitted  is_banked  score  \n",
       "75180   100.0      527323             229          0   24.0  \n",
       "87566   100.0      527323             234          0   18.0  \n",
       "75235   100.0      540758             229          0   40.0  \n",
       "87573   100.0      540758             234          0   60.0  \n",
       "82731   100.0      593903             241          0   49.0  \n",
       "95711   100.0      593903             243          0   44.0  \n",
       "82844   100.0      605118             237          0   42.0  \n",
       "95749   100.0      605118             243          0   64.0  "
      ]
     },
     "execution_count": 9,
     "metadata": {},
     "output_type": "execute_result"
    }
   ],
   "source": [
    "two_exams = (courses_analysis.query('id_student in (540758, 593903, 527323, 605118) & code_module == \"DDD\" & assessment_type==\"Exam\"')\\\n",
    "                           .sort_values('id_student'))\n",
    "two_exams"
   ]
  },
  {
   "cell_type": "markdown",
   "metadata": {},
   "source": [
    "Получается, что эти студенты сдавали экзамен в разные семестры. \n",
    "#### Значит, мы можем принять теорию, что курс - это предмет, который оканчивается экзаменом и проходит в определенный семестр. \n",
    "Также видно, что у курсов с одинаковым предметом и одинаковым семестром один id_assessment, что может быть их идентификатором. Посмотрим, какие курсы и за какие семестры, у нас встречаются в таблице:"
   ]
  },
  {
   "cell_type": "code",
   "execution_count": 10,
   "metadata": {},
   "outputs": [
    {
     "data": {
      "text/html": [
       "<div>\n",
       "<style scoped>\n",
       "    .dataframe tbody tr th:only-of-type {\n",
       "        vertical-align: middle;\n",
       "    }\n",
       "\n",
       "    .dataframe tbody tr th {\n",
       "        vertical-align: top;\n",
       "    }\n",
       "\n",
       "    .dataframe thead th {\n",
       "        text-align: right;\n",
       "    }\n",
       "</style>\n",
       "<table border=\"1\" class=\"dataframe\">\n",
       "  <thead>\n",
       "    <tr style=\"text-align: right;\">\n",
       "      <th></th>\n",
       "      <th>code_module</th>\n",
       "      <th>code_presentation</th>\n",
       "      <th>id_student</th>\n",
       "    </tr>\n",
       "  </thead>\n",
       "  <tbody>\n",
       "    <tr>\n",
       "      <th>0</th>\n",
       "      <td>CCC</td>\n",
       "      <td>2014B</td>\n",
       "      <td>747</td>\n",
       "    </tr>\n",
       "    <tr>\n",
       "      <th>1</th>\n",
       "      <td>CCC</td>\n",
       "      <td>2014J</td>\n",
       "      <td>1168</td>\n",
       "    </tr>\n",
       "    <tr>\n",
       "      <th>2</th>\n",
       "      <td>DDD</td>\n",
       "      <td>2013B</td>\n",
       "      <td>602</td>\n",
       "    </tr>\n",
       "    <tr>\n",
       "      <th>3</th>\n",
       "      <td>DDD</td>\n",
       "      <td>2013J</td>\n",
       "      <td>968</td>\n",
       "    </tr>\n",
       "    <tr>\n",
       "      <th>4</th>\n",
       "      <td>DDD</td>\n",
       "      <td>2014B</td>\n",
       "      <td>524</td>\n",
       "    </tr>\n",
       "    <tr>\n",
       "      <th>5</th>\n",
       "      <td>DDD</td>\n",
       "      <td>2014J</td>\n",
       "      <td>950</td>\n",
       "    </tr>\n",
       "  </tbody>\n",
       "</table>\n",
       "</div>"
      ],
      "text/plain": [
       "  code_module code_presentation  id_student\n",
       "0         CCC             2014B         747\n",
       "1         CCC             2014J        1168\n",
       "2         DDD             2013B         602\n",
       "3         DDD             2013J         968\n",
       "4         DDD             2014B         524\n",
       "5         DDD             2014J         950"
      ]
     },
     "execution_count": 10,
     "metadata": {},
     "output_type": "execute_result"
    }
   ],
   "source": [
    "courses = (courses_analysis.query('assessment_type == \"Exam\"')\\\n",
    "                         .groupby(['code_module', 'code_presentation'], as_index = False)\\\n",
    "                         .agg({'id_student': 'count'})\\\n",
    "                         .sort_values('code_module'))\n",
    "courses                                         "
   ]
  },
  {
   "cell_type": "markdown",
   "metadata": {},
   "source": [
    "# Первое задание \n",
    "Сколько студентов успешно сдали только один курс? (Успешная сдача — это зачёт по курсу на экзамене) "
   ]
  },
  {
   "cell_type": "code",
   "execution_count": 12,
   "metadata": {},
   "outputs": [
    {
     "name": "stdout",
     "output_type": "stream",
     "text": [
      "   id_assessment  id_student  date_submitted  is_banked  score code_module  \\\n",
      "0           1752       11391              18          0   78.0         AAA   \n",
      "1           1752       28400              22          0   70.0         AAA   \n",
      "2           1752       31604              17          0   72.0         AAA   \n",
      "3           1752       32885              26          0   69.0         AAA   \n",
      "4           1752       38053              19          0   79.0         AAA   \n",
      "\n",
      "  code_presentation assessment_type  date  weight  \n",
      "0             2013J             TMA  19.0    10.0  \n",
      "1             2013J             TMA  19.0    10.0  \n",
      "2             2013J             TMA  19.0    10.0  \n",
      "3             2013J             TMA  19.0    10.0  \n",
      "4             2013J             TMA  19.0    10.0  \n",
      "id_assessment           0\n",
      "id_student              0\n",
      "date_submitted          0\n",
      "is_banked               0\n",
      "score                 173\n",
      "code_module             0\n",
      "code_presentation       0\n",
      "assessment_type         0\n",
      "date                 2865\n",
      "weight                  0\n",
      "dtype: int64\n"
     ]
    }
   ],
   "source": [
    "# Объединяем файлы assessments и students\n",
    "students_assessments = pd.merge(students, assessments, on = 'id_assessment')\n",
    "# Проверяем, что объединение прошло успешно\n",
    "print(students_assessments.head())\n",
    "# Также проверим таблицу на пустые строки:\n",
    "print(students_assessments.isna().sum())"
   ]
  },
  {
   "cell_type": "code",
   "execution_count": 13,
   "metadata": {},
   "outputs": [],
   "source": [
    "# Столбец date нам для  расчетов не потребуется, эти пустые данные можно оставить, а строки, где нет оценки можно удалить:\n",
    "students_assessments.dropna(subset = ['score'], inplace = True)"
   ]
  },
  {
   "cell_type": "markdown",
   "metadata": {},
   "source": [
    "Выбираем только экзамены и только с баллом выше или = 40, т.к. это является критерием успешной сдачи. \n",
    "Далее групперуем по студентам и для каждого студента считаем кол-во экзаменов. Выбираем только тех, у которых успешно сдан 1 экзамен и смотрим, сколько таких получилось. "
   ]
  },
  {
   "cell_type": "code",
   "execution_count": 14,
   "metadata": {},
   "outputs": [
    {
     "data": {
      "text/plain": [
       "(3802, 1)"
      ]
     },
     "execution_count": 14,
     "metadata": {},
     "output_type": "execute_result"
    }
   ],
   "source": [
    "success_one = (students_assessments.query('assessment_type == \"Exam\" & score >= 40')\\\n",
    "                      .groupby('id_student')\\\n",
    "                      .agg({'code_module': 'count'})\\\n",
    "                      .query('code_module == 1')\\\n",
    "                      .sort_values('code_module', ascending = False)\\\n",
    "                      .shape)\n",
    "success_one"
   ]
  },
  {
   "cell_type": "markdown",
   "metadata": {},
   "source": [
    "# Ответ на 1 задание - 3802 студента.\n",
    "Если человек прошел один предмет несколько раз, то считается, что он закончил несколько курсов"
   ]
  },
  {
   "cell_type": "markdown",
   "metadata": {},
   "source": [
    "# Задание 2. \n",
    "Выяви самый сложный и самый простой экзамен: найди курсы и экзамены в рамках курса, которые обладают самой низкой и самой высокой завершаемостью*. (5 баллов)"
   ]
  },
  {
   "cell_type": "markdown",
   "metadata": {},
   "source": [
    "Для решения потребуется объединить 2 таблицы assessments и students, у нас есть уже готовая таблица students_assessments \n",
    "c удаленными пустыми строками.\n",
    "Посчитаем полное количество студентов, сдававших экзамен по каждому курсу и запишем их в датафрейм total_exams\n",
    "Посчитаем количество студентов успешно сдавших экзамен по каждому курсу и запишем их в датафрейм success_exams\n",
    "Объединим эти две таблицы и найдем долю сдавших от общего количества, запишем результат в колонку final"
   ]
  },
  {
   "cell_type": "code",
   "execution_count": 15,
   "metadata": {},
   "outputs": [
    {
     "name": "stdout",
     "output_type": "stream",
     "text": [
      "   id_assessment code_module code_presentation  id_student_x  id_student_y  \\\n",
      "2          25340         DDD             2013B           602           504   \n",
      "1          24299         CCC             2014J          1168          1019   \n",
      "5          25368         DDD             2014J           950           842   \n",
      "0          24290         CCC             2014B           747           664   \n",
      "3          25354         DDD             2013J           968           878   \n",
      "4          25361         DDD             2014B           524           485   \n",
      "\n",
      "      final  \n",
      "2  0.837209  \n",
      "1  0.872432  \n",
      "5  0.886316  \n",
      "0  0.888889  \n",
      "3  0.907025  \n",
      "4  0.925573  \n"
     ]
    }
   ],
   "source": [
    "total_exams = (students_assessments.query('assessment_type == \"Exam\"')\\\n",
    "                                           .groupby(['id_assessment', 'code_module', 'code_presentation'], as_index = False)\\\n",
    "                                           .agg({'id_student': 'count'}))\n",
    "success_exams = (students_assessments.query('assessment_type == \"Exam\"&score >= 40')\\\n",
    "                                           .groupby(['id_assessment', 'code_module', 'code_presentation'], as_index = False)\\\n",
    "                                           .agg({'id_student': 'count'}))\n",
    "exams_hardness = pd.merge(total_exams, success_exams, on = ['id_assessment', 'code_module', 'code_presentation'])\n",
    "\n",
    "exams_hardness['final'] = exams_hardness.id_student_y / exams_hardness.id_student_x\n",
    "print(exams_hardness.sort_values('final'))"
   ]
  },
  {
   "cell_type": "markdown",
   "metadata": {},
   "source": [
    "# Ответ на 2 задание: Самый легкий курс - DDD в семестре 2014В. Самый сложный - DDD в семестре 2013B."
   ]
  },
  {
   "cell_type": "markdown",
   "metadata": {},
   "source": [
    "# Задание 3. \n",
    "По каждому предмету определи средний срок сдачи экзаменов \n",
    "(под сдачей понимаем последнее успешное прохождение экзамена студентом)"
   ]
  },
  {
   "cell_type": "markdown",
   "metadata": {},
   "source": [
    "Для этого задания нам потребуется эта же объединенная таблица students_assessments с удаленными пустыми строками.\n",
    "Посчитаем финальную дату сдачи предмета для каждого студента и проверим, что получилось:"
   ]
  },
  {
   "cell_type": "code",
   "execution_count": 16,
   "metadata": {},
   "outputs": [
    {
     "data": {
      "text/html": [
       "<div>\n",
       "<style scoped>\n",
       "    .dataframe tbody tr th:only-of-type {\n",
       "        vertical-align: middle;\n",
       "    }\n",
       "\n",
       "    .dataframe tbody tr th {\n",
       "        vertical-align: top;\n",
       "    }\n",
       "\n",
       "    .dataframe thead th {\n",
       "        text-align: right;\n",
       "    }\n",
       "</style>\n",
       "<table border=\"1\" class=\"dataframe\">\n",
       "  <thead>\n",
       "    <tr style=\"text-align: right;\">\n",
       "      <th></th>\n",
       "      <th>code_module</th>\n",
       "      <th>id_student</th>\n",
       "      <th>date_submitted</th>\n",
       "    </tr>\n",
       "  </thead>\n",
       "  <tbody>\n",
       "    <tr>\n",
       "      <th>0</th>\n",
       "      <td>CCC</td>\n",
       "      <td>23698</td>\n",
       "      <td>243</td>\n",
       "    </tr>\n",
       "    <tr>\n",
       "      <th>1</th>\n",
       "      <td>CCC</td>\n",
       "      <td>27116</td>\n",
       "      <td>243</td>\n",
       "    </tr>\n",
       "    <tr>\n",
       "      <th>2</th>\n",
       "      <td>CCC</td>\n",
       "      <td>28787</td>\n",
       "      <td>243</td>\n",
       "    </tr>\n",
       "    <tr>\n",
       "      <th>3</th>\n",
       "      <td>CCC</td>\n",
       "      <td>29420</td>\n",
       "      <td>244</td>\n",
       "    </tr>\n",
       "    <tr>\n",
       "      <th>4</th>\n",
       "      <td>CCC</td>\n",
       "      <td>29639</td>\n",
       "      <td>248</td>\n",
       "    </tr>\n",
       "    <tr>\n",
       "      <th>...</th>\n",
       "      <td>...</td>\n",
       "      <td>...</td>\n",
       "      <td>...</td>\n",
       "    </tr>\n",
       "    <tr>\n",
       "      <th>4384</th>\n",
       "      <td>DDD</td>\n",
       "      <td>2693243</td>\n",
       "      <td>230</td>\n",
       "    </tr>\n",
       "    <tr>\n",
       "      <th>4385</th>\n",
       "      <td>DDD</td>\n",
       "      <td>2694886</td>\n",
       "      <td>236</td>\n",
       "    </tr>\n",
       "    <tr>\n",
       "      <th>4386</th>\n",
       "      <td>DDD</td>\n",
       "      <td>2694933</td>\n",
       "      <td>230</td>\n",
       "    </tr>\n",
       "    <tr>\n",
       "      <th>4387</th>\n",
       "      <td>DDD</td>\n",
       "      <td>2695608</td>\n",
       "      <td>237</td>\n",
       "    </tr>\n",
       "    <tr>\n",
       "      <th>4388</th>\n",
       "      <td>DDD</td>\n",
       "      <td>2698251</td>\n",
       "      <td>234</td>\n",
       "    </tr>\n",
       "  </tbody>\n",
       "</table>\n",
       "<p>4389 rows × 3 columns</p>\n",
       "</div>"
      ],
      "text/plain": [
       "     code_module  id_student  date_submitted\n",
       "0            CCC       23698             243\n",
       "1            CCC       27116             243\n",
       "2            CCC       28787             243\n",
       "3            CCC       29420             244\n",
       "4            CCC       29639             248\n",
       "...          ...         ...             ...\n",
       "4384         DDD     2693243             230\n",
       "4385         DDD     2694886             236\n",
       "4386         DDD     2694933             230\n",
       "4387         DDD     2695608             237\n",
       "4388         DDD     2698251             234\n",
       "\n",
       "[4389 rows x 3 columns]"
      ]
     },
     "execution_count": 16,
     "metadata": {},
     "output_type": "execute_result"
    }
   ],
   "source": [
    "tests_dates = (students_assessments.query('assessment_type == \"Exam\"&score >= 40')\\\n",
    "                                 .groupby(['code_module', 'id_student'], as_index = False)\\\n",
    "                                 .agg({'date_submitted': 'max'}))\n",
    "tests_dates"
   ]
  },
  {
   "cell_type": "code",
   "execution_count": 18,
   "metadata": {},
   "outputs": [
    {
     "data": {
      "text/html": [
       "<div>\n",
       "<style scoped>\n",
       "    .dataframe tbody tr th:only-of-type {\n",
       "        vertical-align: middle;\n",
       "    }\n",
       "\n",
       "    .dataframe tbody tr th {\n",
       "        vertical-align: top;\n",
       "    }\n",
       "\n",
       "    .dataframe thead th {\n",
       "        text-align: right;\n",
       "    }\n",
       "</style>\n",
       "<table border=\"1\" class=\"dataframe\">\n",
       "  <thead>\n",
       "    <tr style=\"text-align: right;\">\n",
       "      <th></th>\n",
       "      <th>code_module</th>\n",
       "      <th>date_submitted</th>\n",
       "    </tr>\n",
       "  </thead>\n",
       "  <tbody>\n",
       "    <tr>\n",
       "      <th>0</th>\n",
       "      <td>CCC</td>\n",
       "      <td>239.345217</td>\n",
       "    </tr>\n",
       "    <tr>\n",
       "      <th>1</th>\n",
       "      <td>DDD</td>\n",
       "      <td>237.978566</td>\n",
       "    </tr>\n",
       "  </tbody>\n",
       "</table>\n",
       "</div>"
      ],
      "text/plain": [
       "  code_module  date_submitted\n",
       "0         CCC      239.345217\n",
       "1         DDD      237.978566"
      ]
     },
     "execution_count": 18,
     "metadata": {},
     "output_type": "execute_result"
    }
   ],
   "source": [
    "# Далее найдем среднее по каждому предмету:\n",
    "mean_tests_dates = tests_dates.groupby('code_module', as_index = False).agg({'date_submitted': 'mean'})\n",
    "mean_tests_dates\n",
    "# Ответ на третье задание в получившейся таблице:"
   ]
  },
  {
   "cell_type": "markdown",
   "metadata": {},
   "source": [
    "# Ответ на третье задание в получившейся таблице:\n",
    "code_module\tdate_submitted\n",
    "0\tCCC\t     239.345217\n",
    "1\tDDD\t     237.978566"
   ]
  },
  {
   "cell_type": "markdown",
   "metadata": {},
   "source": [
    "# Задание 4. \n",
    "Выяви самые популярные предметы (ТОП-3) по количеству регистраций на них. \n",
    "А также предметы с самым большим оттоком (ТОП-3). "
   ]
  },
  {
   "cell_type": "code",
   "execution_count": 19,
   "metadata": {},
   "outputs": [
    {
     "data": {
      "text/plain": [
       "code_module                0\n",
       "code_presentation          0\n",
       "id_student                 0\n",
       "date_registration         45\n",
       "date_unregistration    22521\n",
       "dtype: int64"
      ]
     },
     "execution_count": 19,
     "metadata": {},
     "output_type": "execute_result"
    }
   ],
   "source": [
    "# Для решения этого задания потребуется таблица registration. Проверим, есть ли в ней пустые данные:\n",
    "registration.isna().sum()"
   ]
  },
  {
   "cell_type": "code",
   "execution_count": 30,
   "metadata": {},
   "outputs": [],
   "source": [
    "# Удалим строки без дат регистрации:\n",
    "registration.dropna(subset = ['date_registration'], inplace = True)"
   ]
  },
  {
   "cell_type": "markdown",
   "metadata": {},
   "source": [
    "Сначала определим предметы с максимумо регистраций.\n",
    "Посчитаем 2 варианта: 1) если регистрация была в дальнейшем отменена, она не считается. 2) все регистрации в целом\n",
    " 1. Только неотмененные регистрации:"
   ]
  },
  {
   "cell_type": "code",
   "execution_count": 31,
   "metadata": {},
   "outputs": [
    {
     "data": {
      "text/html": [
       "<div>\n",
       "<style scoped>\n",
       "    .dataframe tbody tr th:only-of-type {\n",
       "        vertical-align: middle;\n",
       "    }\n",
       "\n",
       "    .dataframe tbody tr th {\n",
       "        vertical-align: top;\n",
       "    }\n",
       "\n",
       "    .dataframe thead th {\n",
       "        text-align: right;\n",
       "    }\n",
       "</style>\n",
       "<table border=\"1\" class=\"dataframe\">\n",
       "  <thead>\n",
       "    <tr style=\"text-align: right;\">\n",
       "      <th></th>\n",
       "      <th>code_module</th>\n",
       "      <th>id_student</th>\n",
       "    </tr>\n",
       "  </thead>\n",
       "  <tbody>\n",
       "    <tr>\n",
       "      <th>1</th>\n",
       "      <td>BBB</td>\n",
       "      <td>5511</td>\n",
       "    </tr>\n",
       "    <tr>\n",
       "      <th>5</th>\n",
       "      <td>FFF</td>\n",
       "      <td>5355</td>\n",
       "    </tr>\n",
       "    <tr>\n",
       "      <th>3</th>\n",
       "      <td>DDD</td>\n",
       "      <td>4007</td>\n",
       "    </tr>\n",
       "    <tr>\n",
       "      <th>2</th>\n",
       "      <td>CCC</td>\n",
       "      <td>2486</td>\n",
       "    </tr>\n",
       "    <tr>\n",
       "      <th>6</th>\n",
       "      <td>GGG</td>\n",
       "      <td>2244</td>\n",
       "    </tr>\n",
       "    <tr>\n",
       "      <th>4</th>\n",
       "      <td>EEE</td>\n",
       "      <td>2209</td>\n",
       "    </tr>\n",
       "    <tr>\n",
       "      <th>0</th>\n",
       "      <td>AAA</td>\n",
       "      <td>620</td>\n",
       "    </tr>\n",
       "  </tbody>\n",
       "</table>\n",
       "</div>"
      ],
      "text/plain": [
       "  code_module  id_student\n",
       "1         BBB        5511\n",
       "5         FFF        5355\n",
       "3         DDD        4007\n",
       "2         CCC        2486\n",
       "6         GGG        2244\n",
       "4         EEE        2209\n",
       "0         AAA         620"
      ]
     },
     "execution_count": 31,
     "metadata": {},
     "output_type": "execute_result"
    }
   ],
   "source": [
    "registration['date_unregistration'] = registration.date_unregistration.isna()\n",
    "\n",
    "registration_number = (registration.query('date_unregistration == True')\\\n",
    "                                 .groupby('code_module', as_index = False)\\\n",
    "                                 .agg({'id_student': 'nunique'})\n",
    "                                  .sort_values('id_student', ascending = False))\n",
    "registration_number"
   ]
  },
  {
   "cell_type": "markdown",
   "metadata": {},
   "source": [
    "2. Все регистрации:"
   ]
  },
  {
   "cell_type": "code",
   "execution_count": 32,
   "metadata": {},
   "outputs": [
    {
     "data": {
      "text/html": [
       "<div>\n",
       "<style scoped>\n",
       "    .dataframe tbody tr th:only-of-type {\n",
       "        vertical-align: middle;\n",
       "    }\n",
       "\n",
       "    .dataframe tbody tr th {\n",
       "        vertical-align: top;\n",
       "    }\n",
       "\n",
       "    .dataframe thead th {\n",
       "        text-align: right;\n",
       "    }\n",
       "</style>\n",
       "<table border=\"1\" class=\"dataframe\">\n",
       "  <thead>\n",
       "    <tr style=\"text-align: right;\">\n",
       "      <th></th>\n",
       "      <th>code_module</th>\n",
       "      <th>id_student</th>\n",
       "    </tr>\n",
       "  </thead>\n",
       "  <tbody>\n",
       "    <tr>\n",
       "      <th>1</th>\n",
       "      <td>BBB</td>\n",
       "      <td>7683</td>\n",
       "    </tr>\n",
       "    <tr>\n",
       "      <th>5</th>\n",
       "      <td>FFF</td>\n",
       "      <td>7387</td>\n",
       "    </tr>\n",
       "    <tr>\n",
       "      <th>3</th>\n",
       "      <td>DDD</td>\n",
       "      <td>5840</td>\n",
       "    </tr>\n",
       "    <tr>\n",
       "      <th>2</th>\n",
       "      <td>CCC</td>\n",
       "      <td>4244</td>\n",
       "    </tr>\n",
       "    <tr>\n",
       "      <th>4</th>\n",
       "      <td>EEE</td>\n",
       "      <td>2858</td>\n",
       "    </tr>\n",
       "    <tr>\n",
       "      <th>6</th>\n",
       "      <td>GGG</td>\n",
       "      <td>2525</td>\n",
       "    </tr>\n",
       "    <tr>\n",
       "      <th>0</th>\n",
       "      <td>AAA</td>\n",
       "      <td>712</td>\n",
       "    </tr>\n",
       "  </tbody>\n",
       "</table>\n",
       "</div>"
      ],
      "text/plain": [
       "  code_module  id_student\n",
       "1         BBB        7683\n",
       "5         FFF        7387\n",
       "3         DDD        5840\n",
       "2         CCC        4244\n",
       "4         EEE        2858\n",
       "6         GGG        2525\n",
       "0         AAA         712"
      ]
     },
     "execution_count": 32,
     "metadata": {},
     "output_type": "execute_result"
    }
   ],
   "source": [
    "registration_full = (registration.groupby('code_module', as_index = False)\\\n",
    "                               .agg({'id_student': 'nunique'})\n",
    "                                .sort_values('id_student', ascending = False))\n",
    "registration_full"
   ]
  },
  {
   "cell_type": "code",
   "execution_count": 33,
   "metadata": {},
   "outputs": [
    {
     "name": "stdout",
     "output_type": "stream",
     "text": [
      "  code_module  id_student_x  id_student_y  cancelled\n",
      "5         GGG          2525          2244   0.888713\n",
      "6         AAA           712           620   0.870787\n",
      "4         EEE          2858          2209   0.772918\n",
      "1         FFF          7387          5355   0.724922\n",
      "0         BBB          7683          5511   0.717298\n",
      "2         DDD          5840          4007   0.686130\n",
      "3         CCC          4244          2486   0.585768\n"
     ]
    }
   ],
   "source": [
    "# Теперь найдем для каждого предмета долю отмененных регистраций\n",
    "\n",
    "registration_cancelled = pd.merge(registration_full, registration_number, on = 'code_module')\n",
    "registration_cancelled['cancelled'] = (registration_cancelled.id_student_y / registration_cancelled.id_student_x)\n",
    "print(registration_cancelled.sort_values('cancelled', ascending = False))"
   ]
  },
  {
   "cell_type": "markdown",
   "metadata": {},
   "source": [
    "# Ответ на 4 задание: \n",
    "Вне зависимости, как считать: с учетом отмененных регистраций или без^ \n",
    "# ТОП-3 по количеству регистраций: 1.BBB, 2.FFF, 3.DDD\n",
    "# ТОП-3 по оттоку: 1.GGG, 2.AAA, 3.EEE"
   ]
  },
  {
   "cell_type": "markdown",
   "metadata": {},
   "source": [
    "# Задание 5. \n",
    "Используя pandas, в период с начала 2013 по конец 2014 выяви семестр с самой низкой завершаемостью курсов \n",
    "и самыми долгими средними сроками сдачи курсов."
   ]
  },
  {
   "cell_type": "markdown",
   "metadata": {},
   "source": [
    "Для решения задания будем использовать подготовленную ранее таблицу students_assessments. \n",
    "Для начала проверим за какой период у нас все имеющиеся данные."
   ]
  },
  {
   "cell_type": "code",
   "execution_count": 34,
   "metadata": {},
   "outputs": [
    {
     "data": {
      "text/html": [
       "<div>\n",
       "<style scoped>\n",
       "    .dataframe tbody tr th:only-of-type {\n",
       "        vertical-align: middle;\n",
       "    }\n",
       "\n",
       "    .dataframe tbody tr th {\n",
       "        vertical-align: top;\n",
       "    }\n",
       "\n",
       "    .dataframe thead th {\n",
       "        text-align: right;\n",
       "    }\n",
       "</style>\n",
       "<table border=\"1\" class=\"dataframe\">\n",
       "  <thead>\n",
       "    <tr style=\"text-align: right;\">\n",
       "      <th></th>\n",
       "      <th>id_assessment</th>\n",
       "    </tr>\n",
       "    <tr>\n",
       "      <th>code_presentation</th>\n",
       "      <th></th>\n",
       "    </tr>\n",
       "  </thead>\n",
       "  <tbody>\n",
       "    <tr>\n",
       "      <th>2013B</th>\n",
       "      <td>39</td>\n",
       "    </tr>\n",
       "    <tr>\n",
       "      <th>2013J</th>\n",
       "      <td>53</td>\n",
       "    </tr>\n",
       "    <tr>\n",
       "      <th>2014B</th>\n",
       "      <td>57</td>\n",
       "    </tr>\n",
       "    <tr>\n",
       "      <th>2014J</th>\n",
       "      <td>57</td>\n",
       "    </tr>\n",
       "  </tbody>\n",
       "</table>\n",
       "</div>"
      ],
      "text/plain": [
       "                   id_assessment\n",
       "code_presentation               \n",
       "2013B                         39\n",
       "2013J                         53\n",
       "2014B                         57\n",
       "2014J                         57"
      ]
     },
     "execution_count": 34,
     "metadata": {},
     "output_type": "execute_result"
    }
   ],
   "source": [
    "assessments_dates = assessments.groupby('code_presentation').agg({'id_assessment': 'count'})\n",
    "assessments_dates"
   ]
  },
  {
   "cell_type": "code",
   "execution_count": 35,
   "metadata": {},
   "outputs": [
    {
     "data": {
      "text/html": [
       "<div>\n",
       "<style scoped>\n",
       "    .dataframe tbody tr th:only-of-type {\n",
       "        vertical-align: middle;\n",
       "    }\n",
       "\n",
       "    .dataframe tbody tr th {\n",
       "        vertical-align: top;\n",
       "    }\n",
       "\n",
       "    .dataframe thead th {\n",
       "        text-align: right;\n",
       "    }\n",
       "</style>\n",
       "<table border=\"1\" class=\"dataframe\">\n",
       "  <thead>\n",
       "    <tr style=\"text-align: right;\">\n",
       "      <th></th>\n",
       "      <th>code_presentation</th>\n",
       "      <th>id_student_x</th>\n",
       "      <th>date_submitted</th>\n",
       "      <th>id_student_y</th>\n",
       "      <th>success_share</th>\n",
       "    </tr>\n",
       "  </thead>\n",
       "  <tbody>\n",
       "    <tr>\n",
       "      <th>0</th>\n",
       "      <td>2013B</td>\n",
       "      <td>504</td>\n",
       "      <td>230.164683</td>\n",
       "      <td>602</td>\n",
       "      <td>0.837209</td>\n",
       "    </tr>\n",
       "    <tr>\n",
       "      <th>1</th>\n",
       "      <td>2013J</td>\n",
       "      <td>878</td>\n",
       "      <td>239.509112</td>\n",
       "      <td>968</td>\n",
       "      <td>0.907025</td>\n",
       "    </tr>\n",
       "    <tr>\n",
       "      <th>2</th>\n",
       "      <td>2014B</td>\n",
       "      <td>1140</td>\n",
       "      <td>233.007018</td>\n",
       "      <td>1271</td>\n",
       "      <td>0.896932</td>\n",
       "    </tr>\n",
       "    <tr>\n",
       "      <th>3</th>\n",
       "      <td>2014J</td>\n",
       "      <td>1814</td>\n",
       "      <td>243.707277</td>\n",
       "      <td>2118</td>\n",
       "      <td>0.856468</td>\n",
       "    </tr>\n",
       "  </tbody>\n",
       "</table>\n",
       "</div>"
      ],
      "text/plain": [
       "  code_presentation  id_student_x  date_submitted  id_student_y  success_share\n",
       "0             2013B           504      230.164683           602       0.837209\n",
       "1             2013J           878      239.509112           968       0.907025\n",
       "2             2014B          1140      233.007018          1271       0.896932\n",
       "3             2014J          1814      243.707277          2118       0.856468"
      ]
     },
     "execution_count": 35,
     "metadata": {},
     "output_type": "execute_result"
    }
   ],
   "source": [
    "# Получается данные у нас как раз с начала 2013 по конец 2014.\n",
    "# Чтобы посчитать средний срок сдачи, для каждого студента нужно оставить только одну финальную дату сдачи.\n",
    "assessment_success = (students_assessments.query('assessment_type == \"Exam\" & score >= 40')\\\n",
    "                                        .groupby(['code_presentation', 'id_student'], as_index = False)\\\n",
    "                                        .agg({'date_submitted': 'max'}))\n",
    "# Посчитаем для каждого курса средний срок сдачи курсов и количество успешно сдавших студентов.\n",
    "assessment_success = (assessment_success.groupby('code_presentation', as_index=False)\\\n",
    "                                        .agg({'id_student': 'count', 'date_submitted': 'mean'}))\n",
    "# Чтобы посчитать процент завершаемости, по каждому семестру необходимо найти общее количество студентов:\n",
    "assessment_full = (students_assessments.query('assessment_type == \"Exam\"')\\\n",
    "                                     .groupby('code_presentation', as_index = False)\\\n",
    "                                     .agg({'id_student': 'count'}))\n",
    "assessment_success = pd.merge(assessment_success, assessment_full, on = 'code_presentation')\n",
    "assessment_success['success_share'] = assessment_success.id_student_x / assessment_success.id_student_y\n",
    "assessment_success"
   ]
  },
  {
   "cell_type": "markdown",
   "metadata": {},
   "source": [
    "# Ответ на 5 задание: семестр с самой низкой завершаемостью курсов - 2013B. \n",
    "# Семестр с самыми долгими средними сроками сдачи курсов -  2014J"
   ]
  },
  {
   "cell_type": "markdown",
   "metadata": {},
   "source": [
    "# Задание 6. \n",
    "Построй адаптированные RFM-кластеры студентов, чтобы качественно оценить свою аудиторию"
   ]
  },
  {
   "cell_type": "markdown",
   "metadata": {},
   "source": [
    "Сначала для каждого студента определим:\n",
    "R - среднее время сдачи одного экзамена, F - завершаемость курсов, M - среднее количество баллов, получаемое за экзамен\n",
    "Объединенные данные в таблице students_assessments. Сначала возьмем только успешные сдачи экзамена. При расчете R будем учитывать время, только успешно сданных экзаменов.\n",
    "Для каждого студента определим последний день сдачи каждого экзамена."
   ]
  },
  {
   "cell_type": "code",
   "execution_count": 36,
   "metadata": {},
   "outputs": [
    {
     "data": {
      "text/html": [
       "<div>\n",
       "<style scoped>\n",
       "    .dataframe tbody tr th:only-of-type {\n",
       "        vertical-align: middle;\n",
       "    }\n",
       "\n",
       "    .dataframe tbody tr th {\n",
       "        vertical-align: top;\n",
       "    }\n",
       "\n",
       "    .dataframe thead th {\n",
       "        text-align: right;\n",
       "    }\n",
       "</style>\n",
       "<table border=\"1\" class=\"dataframe\">\n",
       "  <thead>\n",
       "    <tr style=\"text-align: right;\">\n",
       "      <th></th>\n",
       "      <th>id_student</th>\n",
       "      <th>M_mean_score</th>\n",
       "      <th>F_course_completion</th>\n",
       "      <th>R_mean_time</th>\n",
       "      <th>success_exams</th>\n",
       "    </tr>\n",
       "  </thead>\n",
       "  <tbody>\n",
       "    <tr>\n",
       "      <th>0</th>\n",
       "      <td>23698</td>\n",
       "      <td>80.0</td>\n",
       "      <td>1.0</td>\n",
       "      <td>243.0</td>\n",
       "      <td>1.0</td>\n",
       "    </tr>\n",
       "    <tr>\n",
       "      <th>1</th>\n",
       "      <td>24213</td>\n",
       "      <td>58.0</td>\n",
       "      <td>1.0</td>\n",
       "      <td>236.0</td>\n",
       "      <td>1.0</td>\n",
       "    </tr>\n",
       "    <tr>\n",
       "      <th>2</th>\n",
       "      <td>27116</td>\n",
       "      <td>96.0</td>\n",
       "      <td>1.0</td>\n",
       "      <td>243.0</td>\n",
       "      <td>1.0</td>\n",
       "    </tr>\n",
       "    <tr>\n",
       "      <th>3</th>\n",
       "      <td>28046</td>\n",
       "      <td>40.0</td>\n",
       "      <td>1.0</td>\n",
       "      <td>237.0</td>\n",
       "      <td>1.0</td>\n",
       "    </tr>\n",
       "    <tr>\n",
       "      <th>4</th>\n",
       "      <td>28787</td>\n",
       "      <td>44.0</td>\n",
       "      <td>1.0</td>\n",
       "      <td>243.0</td>\n",
       "      <td>1.0</td>\n",
       "    </tr>\n",
       "  </tbody>\n",
       "</table>\n",
       "</div>"
      ],
      "text/plain": [
       "   id_student  M_mean_score  F_course_completion  R_mean_time  success_exams\n",
       "0       23698          80.0                  1.0        243.0            1.0\n",
       "1       24213          58.0                  1.0        236.0            1.0\n",
       "2       27116          96.0                  1.0        243.0            1.0\n",
       "3       28046          40.0                  1.0        237.0            1.0\n",
       "4       28787          44.0                  1.0        243.0            1.0"
      ]
     },
     "execution_count": 36,
     "metadata": {},
     "output_type": "execute_result"
    }
   ],
   "source": [
    "success_assessments = (students_assessments.query('assessment_type == \"Exam\" & score >= 40')\\\n",
    "                                         .groupby(['id_student', 'id_assessment'], as_index = False)\\\n",
    "                                         .agg({'date_submitted': 'max'}))\n",
    "# Далее посчитаем R и кол-во успешно сданных курсов                                         \n",
    "success_assessments = (success_assessments.groupby('id_student', as_index = False)\\\n",
    "                                         .agg({'date_submitted': 'mean', 'id_assessment': 'count'}))\n",
    "success_assessments.rename(columns = {'date_submitted': 'R_mean_time', 'id_assessment': 'success_exams'}, inplace = True)\n",
    "# Посчитаем общее количество курсов каждого студента и среднюю оценку за экзамен, на случай, если экзамен сдавался \n",
    "# несколько раз\n",
    "full_assessments = (students_assessments.query('assessment_type == \"Exam\"')\\\n",
    "                                      .groupby(['id_student', 'id_assessment'], as_index = False)\\\n",
    "                                      .agg({'score': 'mean'}))\n",
    "\n",
    "full_assessments = (full_assessments.groupby('id_student', as_index = False)\\\n",
    "                                         .agg({'score': 'mean', 'id_assessment': 'count'}))                                       \n",
    "# Объединим таблицы.Т.к. могут быть студенты, которые не сдали ни одного экзамена, сделаем Outer join.   \n",
    "final_assessments=pd.merge(full_assessments, success_assessments, how = 'outer', on = 'id_student')\n",
    "# Для тех, кто не сдал ни одного экзамена, заполним столбцы кол-во успешных экзаменов и среднее время сдачи  -0\n",
    "final_assessments['success_exams'] = final_assessments['success_exams'].fillna (0)\n",
    "\n",
    "final_assessments.id_assessment = final_assessments.success_exams / final_assessments.id_assessment\n",
    "final_assessments = final_assessments.rename(columns = {'id_assessment': 'F_course_completion', 'score': 'M_mean_score'})\n",
    "# Готовая таблица для анализа:\n",
    "final_assessments.head()\n",
    "\n"
   ]
  },
  {
   "cell_type": "markdown",
   "metadata": {},
   "source": [
    "По метрике M мы знаем, что значение лежит в диапазоне от 0 до 100. \n",
    "Проверим, какие значения могут принимать у нас метрики F и R:"
   ]
  },
  {
   "cell_type": "code",
   "execution_count": 37,
   "metadata": {},
   "outputs": [
    {
     "name": "stdout",
     "output_type": "stream",
     "text": [
      "285.0 229.0\n"
     ]
    },
    {
     "data": {
      "text/html": [
       "<div>\n",
       "<style scoped>\n",
       "    .dataframe tbody tr th:only-of-type {\n",
       "        vertical-align: middle;\n",
       "    }\n",
       "\n",
       "    .dataframe tbody tr th {\n",
       "        vertical-align: top;\n",
       "    }\n",
       "\n",
       "    .dataframe thead th {\n",
       "        text-align: right;\n",
       "    }\n",
       "</style>\n",
       "<table border=\"1\" class=\"dataframe\">\n",
       "  <thead>\n",
       "    <tr style=\"text-align: right;\">\n",
       "      <th></th>\n",
       "      <th>id_student</th>\n",
       "    </tr>\n",
       "    <tr>\n",
       "      <th>F_course_completion</th>\n",
       "      <th></th>\n",
       "    </tr>\n",
       "  </thead>\n",
       "  <tbody>\n",
       "    <tr>\n",
       "      <th>0.0</th>\n",
       "      <td>536</td>\n",
       "    </tr>\n",
       "    <tr>\n",
       "      <th>0.5</th>\n",
       "      <td>28</td>\n",
       "    </tr>\n",
       "    <tr>\n",
       "      <th>1.0</th>\n",
       "      <td>4069</td>\n",
       "    </tr>\n",
       "  </tbody>\n",
       "</table>\n",
       "</div>"
      ],
      "text/plain": [
       "                     id_student\n",
       "F_course_completion            \n",
       "0.0                         536\n",
       "0.5                          28\n",
       "1.0                        4069"
      ]
     },
     "execution_count": 37,
     "metadata": {},
     "output_type": "execute_result"
    }
   ],
   "source": [
    "print(final_assessments.R_mean_time.max(), final_assessments.R_mean_time.min())\n",
    "# Для несданных экзаменов у нас это поле осталось пустым. Заполним его 0:\n",
    "final_assessments['R_mean_time'] = final_assessments['R_mean_time'].fillna (0)\n",
    "F_check = final_assessments.groupby('F_course_completion').agg({'id_student': 'count'})\n",
    "F_check.head(10)"
   ]
  },
  {
   "cell_type": "markdown",
   "metadata": {},
   "source": [
    "Исходя из полученных результатов, определим следующие границы метрик:\n",
    "#### Метрика F имеет всего 3 ранга: F=0 - 1; F=0.5 - 2; F=1 - 3\n",
    "#### Для метрики М определим классическую 5-бальную шкалу оценок. Экзамен не сдан M<20, =1;Экзамен не сдан 20<=М<40 =2; Экзамен сдан средне 40<=M<60 =3; Экзамен сдан хорошо 60<=M<80; Экзамен сдан отлично М>=80\n",
    "Для определения границы R проверим, какие указаны даты сдачи экзаменов для разных семестров:"
   ]
  },
  {
   "cell_type": "code",
   "execution_count": 38,
   "metadata": {},
   "outputs": [
    {
     "data": {
      "text/html": [
       "<div>\n",
       "<style scoped>\n",
       "    .dataframe tbody tr th:only-of-type {\n",
       "        vertical-align: middle;\n",
       "    }\n",
       "\n",
       "    .dataframe tbody tr th {\n",
       "        vertical-align: top;\n",
       "    }\n",
       "\n",
       "    .dataframe thead th {\n",
       "        text-align: right;\n",
       "    }\n",
       "</style>\n",
       "<table border=\"1\" class=\"dataframe\">\n",
       "  <thead>\n",
       "    <tr style=\"text-align: right;\">\n",
       "      <th></th>\n",
       "      <th>code_module</th>\n",
       "      <th>code_presentation</th>\n",
       "      <th>id_assessment</th>\n",
       "      <th>assessment_type</th>\n",
       "      <th>date</th>\n",
       "      <th>weight</th>\n",
       "    </tr>\n",
       "  </thead>\n",
       "  <tbody>\n",
       "    <tr>\n",
       "      <th>62</th>\n",
       "      <td>CCC</td>\n",
       "      <td>2014B</td>\n",
       "      <td>24290</td>\n",
       "      <td>Exam</td>\n",
       "      <td>NaN</td>\n",
       "      <td>100.0</td>\n",
       "    </tr>\n",
       "    <tr>\n",
       "      <th>63</th>\n",
       "      <td>CCC</td>\n",
       "      <td>2014B</td>\n",
       "      <td>40087</td>\n",
       "      <td>Exam</td>\n",
       "      <td>NaN</td>\n",
       "      <td>100.0</td>\n",
       "    </tr>\n",
       "    <tr>\n",
       "      <th>72</th>\n",
       "      <td>CCC</td>\n",
       "      <td>2014J</td>\n",
       "      <td>24299</td>\n",
       "      <td>Exam</td>\n",
       "      <td>NaN</td>\n",
       "      <td>100.0</td>\n",
       "    </tr>\n",
       "    <tr>\n",
       "      <th>73</th>\n",
       "      <td>CCC</td>\n",
       "      <td>2014J</td>\n",
       "      <td>40088</td>\n",
       "      <td>Exam</td>\n",
       "      <td>NaN</td>\n",
       "      <td>100.0</td>\n",
       "    </tr>\n",
       "    <tr>\n",
       "      <th>87</th>\n",
       "      <td>DDD</td>\n",
       "      <td>2013B</td>\n",
       "      <td>25340</td>\n",
       "      <td>Exam</td>\n",
       "      <td>240.0</td>\n",
       "      <td>100.0</td>\n",
       "    </tr>\n",
       "    <tr>\n",
       "      <th>94</th>\n",
       "      <td>DDD</td>\n",
       "      <td>2013J</td>\n",
       "      <td>25354</td>\n",
       "      <td>Exam</td>\n",
       "      <td>261.0</td>\n",
       "      <td>100.0</td>\n",
       "    </tr>\n",
       "    <tr>\n",
       "      <th>101</th>\n",
       "      <td>DDD</td>\n",
       "      <td>2014B</td>\n",
       "      <td>25361</td>\n",
       "      <td>Exam</td>\n",
       "      <td>241.0</td>\n",
       "      <td>100.0</td>\n",
       "    </tr>\n",
       "    <tr>\n",
       "      <th>108</th>\n",
       "      <td>DDD</td>\n",
       "      <td>2014J</td>\n",
       "      <td>25368</td>\n",
       "      <td>Exam</td>\n",
       "      <td>NaN</td>\n",
       "      <td>100.0</td>\n",
       "    </tr>\n",
       "  </tbody>\n",
       "</table>\n",
       "</div>"
      ],
      "text/plain": [
       "    code_module code_presentation  id_assessment assessment_type   date  \\\n",
       "62          CCC             2014B          24290            Exam    NaN   \n",
       "63          CCC             2014B          40087            Exam    NaN   \n",
       "72          CCC             2014J          24299            Exam    NaN   \n",
       "73          CCC             2014J          40088            Exam    NaN   \n",
       "87          DDD             2013B          25340            Exam  240.0   \n",
       "94          DDD             2013J          25354            Exam  261.0   \n",
       "101         DDD             2014B          25361            Exam  241.0   \n",
       "108         DDD             2014J          25368            Exam    NaN   \n",
       "\n",
       "     weight  \n",
       "62    100.0  \n",
       "63    100.0  \n",
       "72    100.0  \n",
       "73    100.0  \n",
       "87    100.0  \n",
       "94    100.0  \n",
       "101   100.0  \n",
       "108   100.0  "
      ]
     },
     "execution_count": 38,
     "metadata": {},
     "output_type": "execute_result"
    }
   ],
   "source": [
    "R_check = assessments.query('(code_module == \"DDD\" or code_module == \"CCC\")&assessment_type == \"Exam\"')\n",
    "R_check"
   ]
  },
  {
   "cell_type": "markdown",
   "metadata": {},
   "source": [
    "Для большинства экзаменов дата не указана, но за референсное значение можно взять 250 дней. \n",
    "#### Для метрики R  выделим 3 категории: экзамены не сданы: R=0 - 1; Экзамены сданы позже средних сроков R>250 - 2; Экзамены сданы раньше средних сроков R<=250 - 3."
   ]
  },
  {
   "cell_type": "code",
   "execution_count": 39,
   "metadata": {},
   "outputs": [],
   "source": [
    "# Функции записи в таблицу рангов на основе значений\n",
    "def r_score(x):\n",
    "    if x == 0:\n",
    "        return 1\n",
    "    elif 0 < x <= 250:\n",
    "        return 3\n",
    "    elif x >250:\n",
    "        return 2\n",
    "    \n",
    "def f_score(x):\n",
    "    if x == 0:\n",
    "        return 1\n",
    "    elif x ==0.5:\n",
    "        return 2\n",
    "    elif x ==1:\n",
    "        return 3\n",
    "    \n",
    "def m_score(x):\n",
    "    if x<20:\n",
    "        return 1\n",
    "    elif 20 <= x < 40:\n",
    "        return 2\n",
    "    elif 40 <= x < 60:\n",
    "        return 3\n",
    "    elif 60 <= x < 80:\n",
    "        return 4\n",
    "    elif 80 <= x <= 100:\n",
    "        return 5"
   ]
  },
  {
   "cell_type": "markdown",
   "metadata": {},
   "source": [
    "Проставим в таблице ранги метрик RFM для каждого студента:"
   ]
  },
  {
   "cell_type": "code",
   "execution_count": 40,
   "metadata": {},
   "outputs": [],
   "source": [
    "final_assessments['R'] = final_assessments['R_mean_time'].apply(lambda x: r_score(x))\n",
    "final_assessments['F'] = final_assessments['F_course_completion'].apply(lambda x: f_score(x))\n",
    "final_assessments['M'] = final_assessments['M_mean_score'].apply(lambda x: m_score(x))\n",
    "final_assessments['R'] = final_assessments['R'].astype(int)\n"
   ]
  },
  {
   "cell_type": "markdown",
   "metadata": {},
   "source": [
    "Посмотрим, какие варианты RFM сегментов получились. И распределение студентов по этим вариантам."
   ]
  },
  {
   "cell_type": "code",
   "execution_count": 41,
   "metadata": {},
   "outputs": [
    {
     "name": "stdout",
     "output_type": "stream",
     "text": [
      "  RFM_Score  id_student\n",
      "0       111          36\n",
      "1       112         500\n",
      "2       233           3\n",
      "3       234           4\n",
      "4       235           9\n",
      "5       322           7\n",
      "6       323          21\n",
      "7       333        1240\n",
      "8       334        1509\n",
      "9       335        1304\n"
     ]
    }
   ],
   "source": [
    "RFM = final_assessments\n",
    "RFM['RFM_Score'] = RFM['R'].map(str) + RFM['F'].map(str) + RFM['M'].map(str)\n",
    "RFM = RFM.groupby('RFM_Score', as_index = False).agg({'id_student': 'count'})\n",
    "print(RFM)"
   ]
  },
  {
   "cell_type": "markdown",
   "metadata": {},
   "source": [
    "Описание сегментов:\n",
    "##### 111,112 - Low motivation (Студенты, которые не смогли завершить ни одного курса)\n",
    "##### 222, 223, 322, 323 - Have potential (Студенты, которые завершили курс со второй попытки или завершили один из двух курсов)\n",
    "##### 233 - Avg knowledge_high motiv (Cтуденты, которым важно закончить курс, но которым не хватает знаний или которые не хотят глубоко погружаться в тематику)\n",
    "##### 234,235 - Excl knowledge_need time (Студенты, которые успешно проходят курс, но им для этого требуется больше времени)\n",
    "##### 333 - Avg knowledge_need time  (Студенты которым не хватает знаний или которые не хотят глубоко погружаться в тематику и при этом тратят много времени на прохождение курса, возможно, им трудно разобраться в теме)\n",
    "##### 334, 335  - Excl knowledge_high motiv (Студенты, которые на отлично или хорошо знают предмет и вовремя завершают все курсы)"
   ]
  },
  {
   "cell_type": "code",
   "execution_count": 42,
   "metadata": {},
   "outputs": [],
   "source": [
    "# Определим сегменты в таблице:\n",
    "segt_map = {\n",
    "    r'11[1-2]': 'low motivation',\n",
    "    r'22[2-3]': 'have potential',\n",
    "    r'233': 'avg knowledge_high motiv',\n",
    "    r'32[2-3]': 'have potential',\n",
    "    r'23[4-5]': 'excl knowledge_need time',\n",
    "    r'333': 'avg knowledge_need time',\n",
    "    r'33[4-5]': 'excl knowledge_highest motiv'\n",
    "    }\n",
    "final_assessments['Segment'] = final_assessments['RFM_Score'].replace(segt_map, regex = True)\n"
   ]
  },
  {
   "cell_type": "markdown",
   "metadata": {},
   "source": [
    "Построим графики распределения по каждой метрике и по сегментам."
   ]
  },
  {
   "cell_type": "code",
   "execution_count": 43,
   "metadata": {},
   "outputs": [
    {
     "data": {
      "text/plain": [
       "<matplotlib.axes._subplots.AxesSubplot at 0x7f13ff59f208>"
      ]
     },
     "execution_count": 43,
     "metadata": {},
     "output_type": "execute_result"
    },
    {
     "data": {
      "image/png": "[encoded data removed]",
      "text/plain": [
       "<Figure size 432x288 with 1 Axes>"
      ]
     },
     "metadata": {
      "needs_background": "light"
     },
     "output_type": "display_data"
    }
   ],
   "source": [
    "sns.histplot(data = final_assessments, x = 'R')"
   ]
  },
  {
   "cell_type": "code",
   "execution_count": 44,
   "metadata": {},
   "outputs": [
    {
     "data": {
      "text/plain": [
       "<matplotlib.axes._subplots.AxesSubplot at 0x7f13fefd4f98>"
      ]
     },
     "execution_count": 44,
     "metadata": {},
     "output_type": "execute_result"
    },
    {
     "data": {
      "image/png": "[encoded data removed]",
      "text/plain": [
       "<Figure size 432x288 with 1 Axes>"
      ]
     },
     "metadata": {
      "needs_background": "light"
     },
     "output_type": "display_data"
    }
   ],
   "source": [
    "sns.histplot(data = final_assessments, x = 'F')"
   ]
  },
  {
   "cell_type": "code",
   "execution_count": 45,
   "metadata": {},
   "outputs": [
    {
     "data": {
      "text/plain": [
       "<matplotlib.axes._subplots.AxesSubplot at 0x7f13ff482be0>"
      ]
     },
     "execution_count": 45,
     "metadata": {},
     "output_type": "execute_result"
    },
    {
     "data": {
      "image/png": "[encoded data removed]",
      "text/plain": [
       "<Figure size 432x288 with 1 Axes>"
      ]
     },
     "metadata": {
      "needs_background": "light"
     },
     "output_type": "display_data"
    }
   ],
   "source": [
    "sns.histplot(data = final_assessments, x = 'M')"
   ]
  },
  {
   "cell_type": "code",
   "execution_count": 46,
   "metadata": {},
   "outputs": [
    {
     "data": {
      "text/plain": [
       "<matplotlib.axes._subplots.AxesSubplot at 0x7f13feede828>"
      ]
     },
     "execution_count": 46,
     "metadata": {},
     "output_type": "execute_result"
    },
    {
     "data": {
      "image/png": "[encoded data removed]",
      "text/plain": [
       "<Figure size 1440x504 with 1 Axes>"
      ]
     },
     "metadata": {
      "needs_background": "light"
     },
     "output_type": "display_data"
    }
   ],
   "source": [
    "fig, scatter = plt.subplots(figsize = (20, 7))\n",
    "sns.histplot(data = final_assessments, x = 'Segment')"
   ]
  },
  {
   "cell_type": "markdown",
   "metadata": {},
   "source": [
    "### На основании графиков мы можем сделать следующие выводы:\n",
    "1. Большинство студентов заканчивают все курсы вовремя и с высоким баллом\n",
    "2. Студентам, которые сдают экзамены на низкий балл, требуется на курс больше времени. Т.к. в таблице не было данных о датах сдачи для большинства курсов, вывод сделать сложно. Но можно порекомендовать не ставить жестких дедлайнов и увеличить срок сдачи, чтобы не снижать мотивацию\n",
    "3. Также мы видим, что достаточно много студентов (примерно 30%) сдают экзамены посредственно, на балл близкий к границе зачета. Стоит проанализировать экзамен и материалы курса подробнее, возможно, какие-то темы вызывают сложности или экзамен составлен некорректно\n"
   ]
  }
 ],
 "metadata": {
  "kernelspec": {
   "display_name": "Python 3",
   "language": "python",
   "name": "python3"
  },
  "language_info": {
   "codemirror_mode": {
    "name": "ipython",
    "version": 3
   },
   "file_extension": ".py",
   "mimetype": "text/x-python",
   "name": "python",
   "nbconvert_exporter": "python",
   "pygments_lexer": "ipython3",
   "version": "3.7.3"
  }
 },
 "nbformat": 4,
 "nbformat_minor": 4
}
